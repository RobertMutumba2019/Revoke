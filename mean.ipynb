{
 "cells": [
  {
   "cell_type": "code",
   "execution_count": 16,
   "metadata": {},
   "outputs": [
    {
     "name": "stdout",
     "output_type": "stream",
     "text": [
      "43.523809523809526\n",
      "46.0\n",
      "ModeResult(mode=np.int64(46), count=np.int64(3))\n"
     ]
    }
   ],
   "source": [
    "import numpy as np\n",
    "from scipy import stats\n",
    "speed=[23,56,6,23,57,82,90,13,46,70,11,34,33,46,46,12,53,53,53,35,72]\n",
    "x=np.mean(speed)\n",
    "z=np.median(speed)\n",
    "y=stats.mode(speed)\n",
    "\n",
    "print(x)\n",
    "print(z)\n",
    "print(y)"
   ]
  },
  {
   "cell_type": "code",
   "execution_count": 20,
   "metadata": {},
   "outputs": [
    {
     "name": "stdout",
     "output_type": "stream",
     "text": [
      "23.18172319413363\n",
      "56.0\n"
     ]
    }
   ],
   "source": [
    "v=np.std(speed)\n",
    "print(v)\n",
    "\n",
    "n=np.percentile(speed, 75)\n",
    "print(n)"
   ]
  }
 ],
 "metadata": {
  "kernelspec": {
   "display_name": ".venv",
   "language": "python",
   "name": "python3"
  },
  "language_info": {
   "codemirror_mode": {
    "name": "ipython",
    "version": 3
   },
   "file_extension": ".py",
   "mimetype": "text/x-python",
   "name": "python",
   "nbconvert_exporter": "python",
   "pygments_lexer": "ipython3",
   "version": "3.13.1"
  }
 },
 "nbformat": 4,
 "nbformat_minor": 2
}
